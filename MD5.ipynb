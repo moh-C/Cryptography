{
  "nbformat": 4,
  "nbformat_minor": 0,
  "metadata": {
    "colab": {
      "name": "Untitled0.ipynb",
      "provenance": []
    },
    "kernelspec": {
      "name": "python3",
      "display_name": "Python 3"
    }
  },
  "cells": [
    {
      "cell_type": "code",
      "metadata": {
        "id": "TbEuZwRIZiF2",
        "colab_type": "code",
        "colab": {
          "base_uri": "https://localhost:8080/",
          "height": 187
        },
        "outputId": "dd619415-6bba-4578-b5a5-2133892f85a5"
      },
      "source": [
        "!pip install pycrypto"
      ],
      "execution_count": 1,
      "outputs": [
        {
          "output_type": "stream",
          "text": [
            "Collecting pycrypto\n",
            "\u001b[?25l  Downloading https://files.pythonhosted.org/packages/60/db/645aa9af249f059cc3a368b118de33889219e0362141e75d4eaf6f80f163/pycrypto-2.6.1.tar.gz (446kB)\n",
            "\r\u001b[K     |▊                               | 10kB 20.5MB/s eta 0:00:01\r\u001b[K     |█▌                              | 20kB 6.5MB/s eta 0:00:01\r\u001b[K     |██▏                             | 30kB 9.1MB/s eta 0:00:01\r\u001b[K     |███                             | 40kB 5.9MB/s eta 0:00:01\r\u001b[K     |███▊                            | 51kB 7.1MB/s eta 0:00:01\r\u001b[K     |████▍                           | 61kB 8.4MB/s eta 0:00:01\r\u001b[K     |█████▏                          | 71kB 9.6MB/s eta 0:00:01\r\u001b[K     |█████▉                          | 81kB 10.7MB/s eta 0:00:01\r\u001b[K     |██████▋                         | 92kB 11.8MB/s eta 0:00:01\r\u001b[K     |███████▍                        | 102kB 9.4MB/s eta 0:00:01\r\u001b[K     |████████                        | 112kB 9.4MB/s eta 0:00:01\r\u001b[K     |████████▉                       | 122kB 9.4MB/s eta 0:00:01\r\u001b[K     |█████████▌                      | 133kB 9.4MB/s eta 0:00:01\r\u001b[K     |██████████▎                     | 143kB 9.4MB/s eta 0:00:01\r\u001b[K     |███████████                     | 153kB 9.4MB/s eta 0:00:01\r\u001b[K     |███████████▊                    | 163kB 9.4MB/s eta 0:00:01\r\u001b[K     |████████████▌                   | 174kB 9.4MB/s eta 0:00:01\r\u001b[K     |█████████████▏                  | 184kB 9.4MB/s eta 0:00:01\r\u001b[K     |██████████████                  | 194kB 9.4MB/s eta 0:00:01\r\u001b[K     |██████████████▊                 | 204kB 9.4MB/s eta 0:00:01\r\u001b[K     |███████████████▍                | 215kB 9.4MB/s eta 0:00:01\r\u001b[K     |████████████████▏               | 225kB 9.4MB/s eta 0:00:01\r\u001b[K     |█████████████████               | 235kB 9.4MB/s eta 0:00:01\r\u001b[K     |█████████████████▋              | 245kB 9.4MB/s eta 0:00:01\r\u001b[K     |██████████████████▍             | 256kB 9.4MB/s eta 0:00:01\r\u001b[K     |███████████████████             | 266kB 9.4MB/s eta 0:00:01\r\u001b[K     |███████████████████▉            | 276kB 9.4MB/s eta 0:00:01\r\u001b[K     |████████████████████▋           | 286kB 9.4MB/s eta 0:00:01\r\u001b[K     |█████████████████████▎          | 296kB 9.4MB/s eta 0:00:01\r\u001b[K     |██████████████████████          | 307kB 9.4MB/s eta 0:00:01\r\u001b[K     |██████████████████████▊         | 317kB 9.4MB/s eta 0:00:01\r\u001b[K     |███████████████████████▌        | 327kB 9.4MB/s eta 0:00:01\r\u001b[K     |████████████████████████▎       | 337kB 9.4MB/s eta 0:00:01\r\u001b[K     |█████████████████████████       | 348kB 9.4MB/s eta 0:00:01\r\u001b[K     |█████████████████████████▊      | 358kB 9.4MB/s eta 0:00:01\r\u001b[K     |██████████████████████████▍     | 368kB 9.4MB/s eta 0:00:01\r\u001b[K     |███████████████████████████▏    | 378kB 9.4MB/s eta 0:00:01\r\u001b[K     |████████████████████████████    | 389kB 9.4MB/s eta 0:00:01\r\u001b[K     |████████████████████████████▋   | 399kB 9.4MB/s eta 0:00:01\r\u001b[K     |█████████████████████████████▍  | 409kB 9.4MB/s eta 0:00:01\r\u001b[K     |██████████████████████████████  | 419kB 9.4MB/s eta 0:00:01\r\u001b[K     |██████████████████████████████▉ | 430kB 9.4MB/s eta 0:00:01\r\u001b[K     |███████████████████████████████▋| 440kB 9.4MB/s eta 0:00:01\r\u001b[K     |████████████████████████████████| 450kB 9.4MB/s \n",
            "\u001b[?25hBuilding wheels for collected packages: pycrypto\n",
            "  Building wheel for pycrypto (setup.py) ... \u001b[?25l\u001b[?25hdone\n",
            "  Created wheel for pycrypto: filename=pycrypto-2.6.1-cp36-cp36m-linux_x86_64.whl size=499957 sha256=b17268d11d6f2585c5d90aa34e543e3a03d05d3fbf562eec56b3b75ad8d1635f\n",
            "  Stored in directory: /root/.cache/pip/wheels/27/02/5e/77a69d0c16bb63c6ed32f5386f33a2809c94bd5414a2f6c196\n",
            "Successfully built pycrypto\n",
            "Installing collected packages: pycrypto\n",
            "Successfully installed pycrypto-2.6.1\n"
          ],
          "name": "stdout"
        }
      ]
    },
    {
      "cell_type": "code",
      "metadata": {
        "id": "ZbzRgB9xZl7Y",
        "colab_type": "code",
        "colab": {}
      },
      "source": [
        "from Crypto.Hash import MD5"
      ],
      "execution_count": 0,
      "outputs": []
    },
    {
      "cell_type": "code",
      "metadata": {
        "id": "JD6_eYWdZz_i",
        "colab_type": "code",
        "colab": {}
      },
      "source": [
        "msg = 'Hello motherfucka'.encode('utf-8')\n",
        "msg2 = 'Hello motherfuckb'.encode('utf-8')"
      ],
      "execution_count": 0,
      "outputs": []
    },
    {
      "cell_type": "code",
      "metadata": {
        "id": "fYRMxwb7Z2ru",
        "colab_type": "code",
        "colab": {}
      },
      "source": [
        "h = MD5.new()\n",
        "h1 = MD5.new()"
      ],
      "execution_count": 0,
      "outputs": []
    },
    {
      "cell_type": "code",
      "metadata": {
        "id": "u_I1gTTFZ6lO",
        "colab_type": "code",
        "colab": {}
      },
      "source": [
        "h.update(msg)\n",
        "h1.update(msg2)"
      ],
      "execution_count": 0,
      "outputs": []
    },
    {
      "cell_type": "code",
      "metadata": {
        "id": "zfg0JM6fZ9aa",
        "colab_type": "code",
        "colab": {
          "base_uri": "https://localhost:8080/",
          "height": 51
        },
        "outputId": "5aa7e09a-7a9a-4747-aa13-d1ef306d657d"
      },
      "source": [
        "print(h.hexdigest())\n",
        "print(h1.hexdigest())"
      ],
      "execution_count": 16,
      "outputs": [
        {
          "output_type": "stream",
          "text": [
            "98bcead6b37ab632bee895cfb6513735\n",
            "5e1e23e443a5bbe8fd6698a86123be4b\n"
          ],
          "name": "stdout"
        }
      ]
    },
    {
      "cell_type": "code",
      "metadata": {
        "id": "t4BmQzj5aS3h",
        "colab_type": "code",
        "colab": {}
      },
      "source": [
        ""
      ],
      "execution_count": 0,
      "outputs": []
    }
  ]
}