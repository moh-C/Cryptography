{
  "nbformat": 4,
  "nbformat_minor": 0,
  "metadata": {
    "colab": {
      "name": "SHA.ipynb",
      "provenance": [],
      "collapsed_sections": []
    },
    "kernelspec": {
      "name": "python3",
      "display_name": "Python 3"
    }
  },
  "cells": [
    {
      "cell_type": "code",
      "metadata": {
        "id": "P26cJ_UZa7ao",
        "colab_type": "code",
        "colab": {}
      },
      "source": [
        "from Crypto.Hash import SHA512, SHA256, SHA384, SHA224, MD5"
      ],
      "execution_count": 0,
      "outputs": []
    },
    {
      "cell_type": "code",
      "metadata": {
        "id": "duy5EMJ-eDY4",
        "colab_type": "code",
        "colab": {}
      },
      "source": [
        "h = SHA512.new()\n",
        "h2 = SHA384.new()\n",
        "h3 = SHA256.new()\n",
        "h4 = SHA224.new()\n",
        "h5 = MD5.new()"
      ],
      "execution_count": 0,
      "outputs": []
    },
    {
      "cell_type": "code",
      "metadata": {
        "id": "2pSJOQh_ea4A",
        "colab_type": "code",
        "colab": {}
      },
      "source": [
        "message = 'hello a$$'.encode('utf-8')"
      ],
      "execution_count": 0,
      "outputs": []
    },
    {
      "cell_type": "code",
      "metadata": {
        "id": "BNSNg0WCefP6",
        "colab_type": "code",
        "colab": {}
      },
      "source": [
        "h.update(message)\n",
        "h2.update(message)\n",
        "h3.update(message)\n",
        "h4.update(message)\n",
        "h5.update(message)"
      ],
      "execution_count": 0,
      "outputs": []
    },
    {
      "cell_type": "code",
      "metadata": {
        "id": "G0f3lT2fehrQ",
        "colab_type": "code",
        "colab": {
          "base_uri": "https://localhost:8080/",
          "height": 357
        },
        "outputId": "5c58e021-f9eb-40e5-969f-1f468350f0af"
      },
      "source": [
        "print(h.hexdigest(),f' \\nLength: {len(h.hexdigest())}\\n{h}\\n')\n",
        "print(h2.hexdigest(),f' \\nLength: {len(h2.hexdigest())}\\n{h2}\\n')\n",
        "print(h3.hexdigest(),f' \\nLength: {len(h3.hexdigest())}\\n{h3}\\n')\n",
        "print(h4.hexdigest(),f' \\nLength: {len(h4.hexdigest())}\\n{h4}\\n')\n",
        "print(h5.hexdigest(),f' \\nLength: {len(h5.hexdigest())}\\n{h5}\\n')"
      ],
      "execution_count": 51,
      "outputs": [
        {
          "output_type": "stream",
          "text": [
            "e7f13be80e35f1973a7358a09825be41f4478116381478e7d2c4ffa051716addd188a5cdf9fc27cbd398dcfd58a3b20673b1512a8986eb14ebea012dffe70407  \n",
            "Length: 128\n",
            "<Crypto.Hash.SHA512.SHA512Hash object at 0x7f31caeec358>\n",
            "\n",
            "76f183fbe0fa7f8cfa11d4b5520bfc3fdc5367b51675678a54675bb31770e65abf7c849433edcb0452b96b4e7096ff33  \n",
            "Length: 96\n",
            "<Crypto.Hash.SHA384.SHA384Hash object at 0x7f31caeec320>\n",
            "\n",
            "fa5448b68147409426e38eed34b9e7f80958525991bd182beeed6b1a9f083215  \n",
            "Length: 64\n",
            "<Crypto.Hash.SHA256.SHA256Hash object at 0x7f31caeec2e8>\n",
            "\n",
            "dd6a36d416f587e680e6df48eddc1fa697c97f48d40cecc751b26940  \n",
            "Length: 56\n",
            "<Crypto.Hash.SHA224.SHA224Hash object at 0x7f31caf490f0>\n",
            "\n",
            "dc7a26c01999ae0ee253dcc0c5843486  \n",
            "Length: 32\n",
            "<Crypto.Hash.MD5.MD5Hash object at 0x7f31caf49438>\n",
            "\n"
          ],
          "name": "stdout"
        }
      ]
    },
    {
      "cell_type": "code",
      "metadata": {
        "id": "6uGOrR8wfy65",
        "colab_type": "code",
        "colab": {}
      },
      "source": [
        "\n"
      ],
      "execution_count": 0,
      "outputs": []
    }
  ]
}